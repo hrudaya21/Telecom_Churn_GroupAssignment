{
 "cells": [
  {
   "cell_type": "markdown",
   "metadata": {},
   "source": [
    "# Telecom Churn Group Project"
   ]
  },
  {
   "cell_type": "markdown",
   "metadata": {},
   "source": [
    "This notebook is split into following section\n",
    "\n",
    "<b>* Common Function</b>\n",
    "    * This section we have all the common functions which are used in the entire notebook\n",
    "<b> * Basic Data Analysis and Null Value imputation </b>\n",
    "    * Drop Columns with more than 50% NULL Values\n",
    "    * Handle columns with less number of NULL Values\n",
    "    * Drop columns having not informative information\n",
    "    * Create Dummy Variables for the categorical variables.\n",
    "    * Filter and get high valued customer information\n",
    "    * Derived Columns based on basic column analysis\n",
    "    * Create a new columns which will tell about the Churn/No-Churn customer and Drop 9th month related columns\n",
    "<b> * EDA </b>\n",
    "    * EDA for Month 6 and 7 Together\n",
    "    * EDA for Month 8\n",
    "    * Derived Columns by combining 6th, 7th and 8th columns \n",
    "    * How the features are varied from Good Period to Decision period\n",
    "    * What is the average variation from 6th+7th Month to 8th Month\n",
    "    * EDA for the derived columns\n",
    "<b> * Data Modeling </b>\n",
    "    * Data Normalization \n",
    "    * Basic Logistic Regression Fit to Check the accuracy\n",
    "    * As churn count is less, basic logist can be done with GridSearch and K-Fold\n",
    "    * Using PCA dimentionality reduction can be done\n",
    "    * By taking the PCA data logistic regression can be done again with GridSearch and K-Fold to check for prediction.\n",
    "    * Using Ridge Regression, It can be found the important features impacting the churn.\n",
    "    * Using Tree Model, Also Important Features can be derived.\n",
    "    * If during EDA, any variable relation found with multinomial relation, then SVM Kernel can be used for prediction.\n",
    "\n",
    "<b> * Final Model Selection </b>\n",
    "    * Final Model for Prediction\n",
    "    * Final Model for important Feature selection \n",
    "<b> * Summary </b>\n",
    "    * Project Analysis and Summary"
   ]
  }
 ],
 "metadata": {
  "kernelspec": {
   "display_name": "Python 3",
   "language": "python",
   "name": "python3"
  },
  "language_info": {
   "codemirror_mode": {
    "name": "ipython",
    "version": 3
   },
   "file_extension": ".py",
   "mimetype": "text/x-python",
   "name": "python",
   "nbconvert_exporter": "python",
   "pygments_lexer": "ipython3",
   "version": "3.6.5"
  }
 },
 "nbformat": 4,
 "nbformat_minor": 2
}
