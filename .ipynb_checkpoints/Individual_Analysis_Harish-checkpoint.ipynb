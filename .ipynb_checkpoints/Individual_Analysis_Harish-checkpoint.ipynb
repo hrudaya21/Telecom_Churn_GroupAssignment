{
 "cells": [
  {
   "cell_type": "code",
   "execution_count": 1,
   "metadata": {},
   "outputs": [],
   "source": [
    "#pd.set_option('display.max_rows', 200)\n",
    "#pd.set_option('display.max_columns', 200)"
   ]
  },
  {
   "cell_type": "code",
   "execution_count": 2,
   "metadata": {},
   "outputs": [],
   "source": [
    "import numpy as np\n",
    "import pandas as pd\n",
    "import seaborn as sns\n",
    "import matplotlib.pyplot as plt\n",
    "import re\n",
    "import warnings\n",
    "warnings.filterwarnings(\"ignore\")\n",
    "%matplotlib inline"
   ]
  },
  {
   "cell_type": "code",
   "execution_count": 3,
   "metadata": {},
   "outputs": [],
   "source": [
    "# Read file and parse dates if any present\n",
    "df = pd.read_csv('telecom_churn_data.csv', parse_dates = True)"
   ]
  },
  {
   "cell_type": "code",
   "execution_count": 4,
   "metadata": {},
   "outputs": [
    {
     "name": "stdout",
     "output_type": "stream",
     "text": [
      "<class 'pandas.core.frame.DataFrame'>\n",
      "RangeIndex: 99999 entries, 0 to 99998\n",
      "Columns: 226 entries, mobile_number to sep_vbc_3g\n",
      "dtypes: float64(179), int64(35), object(12)\n",
      "memory usage: 172.4+ MB\n"
     ]
    }
   ],
   "source": [
    "df.info()"
   ]
  },
  {
   "cell_type": "code",
   "execution_count": 5,
   "metadata": {},
   "outputs": [
    {
     "data": {
      "text/html": [
       "<div>\n",
       "<style scoped>\n",
       "    .dataframe tbody tr th:only-of-type {\n",
       "        vertical-align: middle;\n",
       "    }\n",
       "\n",
       "    .dataframe tbody tr th {\n",
       "        vertical-align: top;\n",
       "    }\n",
       "\n",
       "    .dataframe thead th {\n",
       "        text-align: right;\n",
       "    }\n",
       "</style>\n",
       "<table border=\"1\" class=\"dataframe\">\n",
       "  <thead>\n",
       "    <tr style=\"text-align: right;\">\n",
       "      <th></th>\n",
       "      <th>mobile_number</th>\n",
       "      <th>circle_id</th>\n",
       "      <th>loc_og_t2o_mou</th>\n",
       "      <th>std_og_t2o_mou</th>\n",
       "      <th>loc_ic_t2o_mou</th>\n",
       "      <th>last_date_of_month_6</th>\n",
       "      <th>last_date_of_month_7</th>\n",
       "      <th>last_date_of_month_8</th>\n",
       "      <th>last_date_of_month_9</th>\n",
       "      <th>arpu_6</th>\n",
       "      <th>...</th>\n",
       "      <th>sachet_3g_9</th>\n",
       "      <th>fb_user_6</th>\n",
       "      <th>fb_user_7</th>\n",
       "      <th>fb_user_8</th>\n",
       "      <th>fb_user_9</th>\n",
       "      <th>aon</th>\n",
       "      <th>aug_vbc_3g</th>\n",
       "      <th>jul_vbc_3g</th>\n",
       "      <th>jun_vbc_3g</th>\n",
       "      <th>sep_vbc_3g</th>\n",
       "    </tr>\n",
       "  </thead>\n",
       "  <tbody>\n",
       "    <tr>\n",
       "      <th>0</th>\n",
       "      <td>7000842753</td>\n",
       "      <td>109</td>\n",
       "      <td>0.0</td>\n",
       "      <td>0.0</td>\n",
       "      <td>0.0</td>\n",
       "      <td>6/30/2014</td>\n",
       "      <td>7/31/2014</td>\n",
       "      <td>8/31/2014</td>\n",
       "      <td>9/30/2014</td>\n",
       "      <td>197.385</td>\n",
       "      <td>...</td>\n",
       "      <td>0</td>\n",
       "      <td>1.0</td>\n",
       "      <td>1.0</td>\n",
       "      <td>1.0</td>\n",
       "      <td>NaN</td>\n",
       "      <td>968</td>\n",
       "      <td>30.4</td>\n",
       "      <td>0.0</td>\n",
       "      <td>101.20</td>\n",
       "      <td>3.58</td>\n",
       "    </tr>\n",
       "    <tr>\n",
       "      <th>1</th>\n",
       "      <td>7001865778</td>\n",
       "      <td>109</td>\n",
       "      <td>0.0</td>\n",
       "      <td>0.0</td>\n",
       "      <td>0.0</td>\n",
       "      <td>6/30/2014</td>\n",
       "      <td>7/31/2014</td>\n",
       "      <td>8/31/2014</td>\n",
       "      <td>9/30/2014</td>\n",
       "      <td>34.047</td>\n",
       "      <td>...</td>\n",
       "      <td>0</td>\n",
       "      <td>NaN</td>\n",
       "      <td>1.0</td>\n",
       "      <td>1.0</td>\n",
       "      <td>NaN</td>\n",
       "      <td>1006</td>\n",
       "      <td>0.0</td>\n",
       "      <td>0.0</td>\n",
       "      <td>0.00</td>\n",
       "      <td>0.00</td>\n",
       "    </tr>\n",
       "    <tr>\n",
       "      <th>2</th>\n",
       "      <td>7001625959</td>\n",
       "      <td>109</td>\n",
       "      <td>0.0</td>\n",
       "      <td>0.0</td>\n",
       "      <td>0.0</td>\n",
       "      <td>6/30/2014</td>\n",
       "      <td>7/31/2014</td>\n",
       "      <td>8/31/2014</td>\n",
       "      <td>9/30/2014</td>\n",
       "      <td>167.690</td>\n",
       "      <td>...</td>\n",
       "      <td>0</td>\n",
       "      <td>NaN</td>\n",
       "      <td>NaN</td>\n",
       "      <td>NaN</td>\n",
       "      <td>1.0</td>\n",
       "      <td>1103</td>\n",
       "      <td>0.0</td>\n",
       "      <td>0.0</td>\n",
       "      <td>4.17</td>\n",
       "      <td>0.00</td>\n",
       "    </tr>\n",
       "    <tr>\n",
       "      <th>3</th>\n",
       "      <td>7001204172</td>\n",
       "      <td>109</td>\n",
       "      <td>0.0</td>\n",
       "      <td>0.0</td>\n",
       "      <td>0.0</td>\n",
       "      <td>6/30/2014</td>\n",
       "      <td>7/31/2014</td>\n",
       "      <td>8/31/2014</td>\n",
       "      <td>9/30/2014</td>\n",
       "      <td>221.338</td>\n",
       "      <td>...</td>\n",
       "      <td>0</td>\n",
       "      <td>NaN</td>\n",
       "      <td>NaN</td>\n",
       "      <td>NaN</td>\n",
       "      <td>NaN</td>\n",
       "      <td>2491</td>\n",
       "      <td>0.0</td>\n",
       "      <td>0.0</td>\n",
       "      <td>0.00</td>\n",
       "      <td>0.00</td>\n",
       "    </tr>\n",
       "    <tr>\n",
       "      <th>4</th>\n",
       "      <td>7000142493</td>\n",
       "      <td>109</td>\n",
       "      <td>0.0</td>\n",
       "      <td>0.0</td>\n",
       "      <td>0.0</td>\n",
       "      <td>6/30/2014</td>\n",
       "      <td>7/31/2014</td>\n",
       "      <td>8/31/2014</td>\n",
       "      <td>9/30/2014</td>\n",
       "      <td>261.636</td>\n",
       "      <td>...</td>\n",
       "      <td>0</td>\n",
       "      <td>0.0</td>\n",
       "      <td>NaN</td>\n",
       "      <td>NaN</td>\n",
       "      <td>NaN</td>\n",
       "      <td>1526</td>\n",
       "      <td>0.0</td>\n",
       "      <td>0.0</td>\n",
       "      <td>0.00</td>\n",
       "      <td>0.00</td>\n",
       "    </tr>\n",
       "  </tbody>\n",
       "</table>\n",
       "<p>5 rows × 226 columns</p>\n",
       "</div>"
      ],
      "text/plain": [
       "   mobile_number  circle_id  loc_og_t2o_mou  std_og_t2o_mou  loc_ic_t2o_mou  \\\n",
       "0     7000842753        109             0.0             0.0             0.0   \n",
       "1     7001865778        109             0.0             0.0             0.0   \n",
       "2     7001625959        109             0.0             0.0             0.0   \n",
       "3     7001204172        109             0.0             0.0             0.0   \n",
       "4     7000142493        109             0.0             0.0             0.0   \n",
       "\n",
       "  last_date_of_month_6 last_date_of_month_7 last_date_of_month_8  \\\n",
       "0            6/30/2014            7/31/2014            8/31/2014   \n",
       "1            6/30/2014            7/31/2014            8/31/2014   \n",
       "2            6/30/2014            7/31/2014            8/31/2014   \n",
       "3            6/30/2014            7/31/2014            8/31/2014   \n",
       "4            6/30/2014            7/31/2014            8/31/2014   \n",
       "\n",
       "  last_date_of_month_9   arpu_6     ...      sachet_3g_9  fb_user_6  \\\n",
       "0            9/30/2014  197.385     ...                0        1.0   \n",
       "1            9/30/2014   34.047     ...                0        NaN   \n",
       "2            9/30/2014  167.690     ...                0        NaN   \n",
       "3            9/30/2014  221.338     ...                0        NaN   \n",
       "4            9/30/2014  261.636     ...                0        0.0   \n",
       "\n",
       "   fb_user_7  fb_user_8  fb_user_9   aon  aug_vbc_3g  jul_vbc_3g  jun_vbc_3g  \\\n",
       "0        1.0        1.0        NaN   968        30.4         0.0      101.20   \n",
       "1        1.0        1.0        NaN  1006         0.0         0.0        0.00   \n",
       "2        NaN        NaN        1.0  1103         0.0         0.0        4.17   \n",
       "3        NaN        NaN        NaN  2491         0.0         0.0        0.00   \n",
       "4        NaN        NaN        NaN  1526         0.0         0.0        0.00   \n",
       "\n",
       "   sep_vbc_3g  \n",
       "0        3.58  \n",
       "1        0.00  \n",
       "2        0.00  \n",
       "3        0.00  \n",
       "4        0.00  \n",
       "\n",
       "[5 rows x 226 columns]"
      ]
     },
     "execution_count": 5,
     "metadata": {},
     "output_type": "execute_result"
    }
   ],
   "source": [
    "df.head()"
   ]
  },
  {
   "cell_type": "code",
   "execution_count": 6,
   "metadata": {},
   "outputs": [
    {
     "data": {
      "text/plain": [
       "(99999, 226)"
      ]
     },
     "execution_count": 6,
     "metadata": {},
     "output_type": "execute_result"
    }
   ],
   "source": [
    "# Check the rows and columns in the dataframe\n",
    "df.shape"
   ]
  },
  {
   "cell_type": "code",
   "execution_count": 7,
   "metadata": {},
   "outputs": [
    {
     "data": {
      "text/plain": [
       "99999"
      ]
     },
     "execution_count": 7,
     "metadata": {},
     "output_type": "execute_result"
    }
   ],
   "source": [
    "# Check count of unique mobile numbers\n",
    "len(df['mobile_number'].unique())"
   ]
  },
  {
   "cell_type": "code",
   "execution_count": 8,
   "metadata": {},
   "outputs": [],
   "source": [
    "# Since all the mobile numbers are unique, let's set the \"mobile number\" as the INDEX\n",
    "df = df.set_index('mobile_number')"
   ]
  },
  {
   "cell_type": "code",
   "execution_count": 9,
   "metadata": {},
   "outputs": [
    {
     "name": "stdout",
     "output_type": "stream",
     "text": [
      "The number of columns with all values missing/NA are:\r\n",
      " 0\n"
     ]
    }
   ],
   "source": [
    "# Check for columns with all values as 'na'\n",
    "print('The number of columns with all values missing/NA are:\\r\\n',len([i for i in df.columns if df[i].isna().all()]))"
   ]
  },
  {
   "cell_type": "code",
   "execution_count": 10,
   "metadata": {},
   "outputs": [
    {
     "name": "stdout",
     "output_type": "stream",
     "text": [
      "The number of rows with all values missing/NA are:\r\n",
      " 0\n"
     ]
    }
   ],
   "source": [
    "#Check if there are rows with all values as 'na'\n",
    "print('The number of rows with all values missing/NA are:\\r\\n',len(df.index[df.isna().all(1)]))"
   ]
  },
  {
   "cell_type": "code",
   "execution_count": 11,
   "metadata": {},
   "outputs": [
    {
     "name": "stdout",
     "output_type": "stream",
     "text": [
      "date_of_last_rech_data_6 : 74846\n",
      "date_of_last_rech_data_7 : 74428\n",
      "date_of_last_rech_data_8 : 73660\n",
      "date_of_last_rech_data_9 : 74077\n",
      "total_rech_data_6 : 74846\n",
      "total_rech_data_7 : 74428\n",
      "total_rech_data_8 : 73660\n",
      "total_rech_data_9 : 74077\n",
      "max_rech_data_6 : 74846\n",
      "max_rech_data_7 : 74428\n",
      "max_rech_data_8 : 73660\n",
      "max_rech_data_9 : 74077\n",
      "count_rech_2g_6 : 74846\n",
      "count_rech_2g_7 : 74428\n",
      "count_rech_2g_8 : 73660\n",
      "count_rech_2g_9 : 74077\n",
      "count_rech_3g_6 : 74846\n",
      "count_rech_3g_7 : 74428\n",
      "count_rech_3g_8 : 73660\n",
      "count_rech_3g_9 : 74077\n",
      "av_rech_amt_data_6 : 74846\n",
      "av_rech_amt_data_7 : 74428\n",
      "av_rech_amt_data_8 : 73660\n",
      "av_rech_amt_data_9 : 74077\n",
      "arpu_3g_6 : 74846\n",
      "arpu_3g_7 : 74428\n",
      "arpu_3g_8 : 73660\n",
      "arpu_3g_9 : 74077\n",
      "arpu_2g_6 : 74846\n",
      "arpu_2g_7 : 74428\n",
      "arpu_2g_8 : 73660\n",
      "arpu_2g_9 : 74077\n",
      "night_pck_user_6 : 74846\n",
      "night_pck_user_7 : 74428\n",
      "night_pck_user_8 : 73660\n",
      "night_pck_user_9 : 74077\n",
      "fb_user_6 : 74846\n",
      "fb_user_7 : 74428\n",
      "fb_user_8 : 73660\n",
      "fb_user_9 : 74077\n"
     ]
    }
   ],
   "source": [
    "# Find columns with greater than 50% of values null\n",
    "null_columns=df.columns[df.isnull().any()]\n",
    "for i in null_columns:\n",
    "    if(df[i].isnull().sum()*100/df.shape[0] >50):\n",
    "        print(i,\":\",df[i].isnull().sum())"
   ]
  },
  {
   "cell_type": "code",
   "execution_count": 12,
   "metadata": {},
   "outputs": [
    {
     "data": {
      "text/plain": [
       "total_rech_data_6    1.0\n",
       "total_rech_data_7    1.0\n",
       "total_rech_data_8    1.0\n",
       "total_rech_data_9    1.0\n",
       "dtype: float64"
      ]
     },
     "execution_count": 12,
     "metadata": {},
     "output_type": "execute_result"
    }
   ],
   "source": [
    "df.filter(like = 'total_rech_data').min()"
   ]
  },
  {
   "cell_type": "code",
   "execution_count": 13,
   "metadata": {},
   "outputs": [
    {
     "name": "stdout",
     "output_type": "stream",
     "text": [
      "No. of rows where data recharge is not equal to 2G and 3G recharge in month 6: 74846\n",
      "No. of rows where data recharge is not equal to 2G and 3G recharge in month 7: 74428\n",
      "No. of rows where data recharge is not equal to 2G and 3G recharge in month 8: 73660\n",
      "No. of rows where data recharge is not equal to 2G and 3G recharge in month 9: 74077\n"
     ]
    }
   ],
   "source": [
    "print(\"No. of rows where data recharge is not equal to 2G and 3G recharge in month 6:\",df[(df['total_rech_data_6'] != df['count_rech_2g_6'] + df['count_rech_3g_6'])].shape[0])\n",
    "print(\"No. of rows where data recharge is not equal to 2G and 3G recharge in month 7:\",df[(df['total_rech_data_7'] != df['count_rech_2g_7'] + df['count_rech_3g_7'])].shape[0])\n",
    "print(\"No. of rows where data recharge is not equal to 2G and 3G recharge in month 8:\",df[(df['total_rech_data_8'] != df['count_rech_2g_8'] + df['count_rech_3g_8'])].shape[0])\n",
    "print(\"No. of rows where data recharge is not equal to 2G and 3G recharge in month 9:\",df[(df['total_rech_data_9'] != df['count_rech_2g_9'] + df['count_rech_3g_9'])].shape[0])"
   ]
  },
  {
   "cell_type": "markdown",
   "metadata": {},
   "source": [
    "#### From the above, it can be observed that \"total_rech_data_X\" which represents \"number of data recharges\" in the month has a minimum value 1. So if a customer (high-value or not) does not recharge for data in a month, the value is missing and not 0. This explains the same count of missing values that appear across other data-related columns above."
   ]
  },
  {
   "cell_type": "code",
   "execution_count": 14,
   "metadata": {},
   "outputs": [
    {
     "name": "stdout",
     "output_type": "stream",
     "text": [
      "Assumption 1: If the data recharge values are missing, the customers have not recharged. So, impute 0 (zero) where the recharge values (total_rech, max_rech, count_rech, av_rech, arpu) are missing.\n"
     ]
    }
   ],
   "source": [
    "print(\"Assumption 1: If the data recharge values are missing, the customers have not recharged.\",\n",
    "      \"So, impute 0 (zero) where the recharge values (total_rech, max_rech, count_rech, av_rech, arpu) are missing.\")"
   ]
  },
  {
   "cell_type": "code",
   "execution_count": 15,
   "metadata": {},
   "outputs": [],
   "source": [
    "for i in df.filter(regex=\"(total_rech_data|max_rech_data|count_rech_.g|av_rech_amt_data|arpu_.g)\").columns:\n",
    "    df[i] = df[i].fillna(value = 0)"
   ]
  },
  {
   "cell_type": "code",
   "execution_count": 16,
   "metadata": {},
   "outputs": [
    {
     "name": "stdout",
     "output_type": "stream",
     "text": [
      "Assumption 2: The packs NIGHT and FB_USER are related to data packs and follow a similar pattern to that of the data recharges and so will be imputed with 0 where there are no values.\n"
     ]
    }
   ],
   "source": [
    "print(\"Assumption 2: The packs NIGHT and FB_USER are related to data packs and follow a similar pattern to that of the data recharges and so will be imputed with 0 where there are no values.\")"
   ]
  },
  {
   "cell_type": "code",
   "execution_count": 17,
   "metadata": {},
   "outputs": [],
   "source": [
    "for i in df.filter(regex=\"(night_pck_user|fb_user)\").columns:\n",
    "    df[i] = df[i].fillna(value = 0)"
   ]
  },
  {
   "cell_type": "code",
   "execution_count": 18,
   "metadata": {},
   "outputs": [],
   "source": [
    "#print(\"Assumption 3: If minutes of usage values are missing, assume that the customers have not made calls.\",\n",
    "#      \"So, impute 0 (zero) where the minutes of usage (mou, ic,og) are missing.\")"
   ]
  },
  {
   "cell_type": "code",
   "execution_count": 19,
   "metadata": {},
   "outputs": [],
   "source": [
    "#for i in df.filter(regex=\"(mou|og|ic)\").columns:\n",
    "#    df[i] = df[i].fillna(value = 0)"
   ]
  },
  {
   "cell_type": "code",
   "execution_count": 20,
   "metadata": {},
   "outputs": [
    {
     "name": "stdout",
     "output_type": "stream",
     "text": [
      "Following is the count of null values in each column:\n",
      "loc_og_t2o_mou               1018\n",
      "std_og_t2o_mou               1018\n",
      "loc_ic_t2o_mou               1018\n",
      "last_date_of_month_7          601\n",
      "last_date_of_month_8         1100\n",
      "last_date_of_month_9         1659\n",
      "onnet_mou_6                  3937\n",
      "onnet_mou_7                  3859\n",
      "onnet_mou_8                  5378\n",
      "onnet_mou_9                  7745\n",
      "offnet_mou_6                 3937\n",
      "offnet_mou_7                 3859\n",
      "offnet_mou_8                 5378\n",
      "offnet_mou_9                 7745\n",
      "roam_ic_mou_6                3937\n",
      "roam_ic_mou_7                3859\n",
      "roam_ic_mou_8                5378\n",
      "roam_ic_mou_9                7745\n",
      "roam_og_mou_6                3937\n",
      "roam_og_mou_7                3859\n",
      "roam_og_mou_8                5378\n",
      "roam_og_mou_9                7745\n",
      "loc_og_t2t_mou_6             3937\n",
      "loc_og_t2t_mou_7             3859\n",
      "loc_og_t2t_mou_8             5378\n",
      "loc_og_t2t_mou_9             7745\n",
      "loc_og_t2m_mou_6             3937\n",
      "loc_og_t2m_mou_7             3859\n",
      "loc_og_t2m_mou_8             5378\n",
      "loc_og_t2m_mou_9             7745\n",
      "                            ...  \n",
      "std_ic_t2f_mou_8             5378\n",
      "std_ic_t2f_mou_9             7745\n",
      "std_ic_t2o_mou_6             3937\n",
      "std_ic_t2o_mou_7             3859\n",
      "std_ic_t2o_mou_8             5378\n",
      "std_ic_t2o_mou_9             7745\n",
      "std_ic_mou_6                 3937\n",
      "std_ic_mou_7                 3859\n",
      "std_ic_mou_8                 5378\n",
      "std_ic_mou_9                 7745\n",
      "spl_ic_mou_6                 3937\n",
      "spl_ic_mou_7                 3859\n",
      "spl_ic_mou_8                 5378\n",
      "spl_ic_mou_9                 7745\n",
      "isd_ic_mou_6                 3937\n",
      "isd_ic_mou_7                 3859\n",
      "isd_ic_mou_8                 5378\n",
      "isd_ic_mou_9                 7745\n",
      "ic_others_6                  3937\n",
      "ic_others_7                  3859\n",
      "ic_others_8                  5378\n",
      "ic_others_9                  7745\n",
      "date_of_last_rech_6          1607\n",
      "date_of_last_rech_7          1767\n",
      "date_of_last_rech_8          3622\n",
      "date_of_last_rech_9          4760\n",
      "date_of_last_rech_data_6    74846\n",
      "date_of_last_rech_data_7    74428\n",
      "date_of_last_rech_data_8    73660\n",
      "date_of_last_rech_data_9    74077\n",
      "Length: 130, dtype: int64\n"
     ]
    }
   ],
   "source": [
    "# Check the number of missing/NA values in each column\n",
    "null_columns=df.columns[df.isnull().any()]\n",
    "print('Following is the count of null values in each column:')\n",
    "print(df[null_columns].isnull().sum())"
   ]
  },
  {
   "cell_type": "code",
   "execution_count": 21,
   "metadata": {},
   "outputs": [
    {
     "data": {
      "text/plain": [
       "(99999, 225)"
      ]
     },
     "execution_count": 21,
     "metadata": {},
     "output_type": "execute_result"
    }
   ],
   "source": [
    "df.shape"
   ]
  },
  {
   "cell_type": "markdown",
   "metadata": {},
   "source": [
    "#### Shortlist high-value customers\n",
    "##### \"Those who have recharged with an amount more than or equal to X, where X is the 70th percentile of the average recharge amount in the first two months (the good phase).\""
   ]
  },
  {
   "cell_type": "code",
   "execution_count": 22,
   "metadata": {},
   "outputs": [],
   "source": [
    "df['total'] = df[['total_rech_amt_6','total_rech_amt_7']].sum(axis=1)\n",
    "threshold = float(df['total'].quantile([0.70]))\n",
    "df = df[df['total'] > threshold]\n",
    "df = df.drop('total', axis=1)"
   ]
  },
  {
   "cell_type": "code",
   "execution_count": 23,
   "metadata": {},
   "outputs": [
    {
     "data": {
      "text/plain": [
       "(29979, 225)"
      ]
     },
     "execution_count": 23,
     "metadata": {},
     "output_type": "execute_result"
    }
   ],
   "source": [
    "df.shape"
   ]
  },
  {
   "cell_type": "markdown",
   "metadata": {},
   "source": [
    "#### Identify churn and non-churn customers using the criteria:\n",
    "##### \"Those who have not made any calls (either incoming or outgoing) AND have not used mobile internet even once in the churn phase. The attributes to use to tag churners are: total_ic_mou_9, total_og_mou_9, vol_2g_mb_9, vol_3g_mb_9\""
   ]
  },
  {
   "cell_type": "code",
   "execution_count": 24,
   "metadata": {},
   "outputs": [],
   "source": [
    "# Label churn and non-churn customers\n",
    "df['churn'] = np.where(\n",
    "            (\n",
    "                (df['total_ic_mou_9'] == 0.0) | \n",
    "                (df['total_og_mou_9'] == 0.0)\n",
    "            ) & \n",
    "            (\n",
    "                (df['vol_2g_mb_9'] == 0.0) & \n",
    "                (df['vol_3g_mb_9'] == 0.0)\n",
    "            ),1,0\n",
    "        )"
   ]
  },
  {
   "cell_type": "code",
   "execution_count": 25,
   "metadata": {},
   "outputs": [
    {
     "data": {
      "text/plain": [
       "0    27089\n",
       "1     2890\n",
       "Name: churn, dtype: int64"
      ]
     },
     "execution_count": 25,
     "metadata": {},
     "output_type": "execute_result"
    }
   ],
   "source": [
    "# Look at the distribution of churn and non-churn customers\n",
    "df['churn'].value_counts()"
   ]
  },
  {
   "cell_type": "code",
   "execution_count": 26,
   "metadata": {},
   "outputs": [],
   "source": [
    "# Remove columns with '9'\n",
    "df = df.drop(df.filter(like = '9').columns, axis=1)"
   ]
  },
  {
   "cell_type": "code",
   "execution_count": 27,
   "metadata": {},
   "outputs": [
    {
     "data": {
      "text/plain": [
       "(29979, 172)"
      ]
     },
     "execution_count": 27,
     "metadata": {},
     "output_type": "execute_result"
    }
   ],
   "source": [
    "df.shape"
   ]
  },
  {
   "cell_type": "code",
   "execution_count": 28,
   "metadata": {},
   "outputs": [
    {
     "data": {
      "text/html": [
       "<div>\n",
       "<style scoped>\n",
       "    .dataframe tbody tr th:only-of-type {\n",
       "        vertical-align: middle;\n",
       "    }\n",
       "\n",
       "    .dataframe tbody tr th {\n",
       "        vertical-align: top;\n",
       "    }\n",
       "\n",
       "    .dataframe thead th {\n",
       "        text-align: right;\n",
       "    }\n",
       "</style>\n",
       "<table border=\"1\" class=\"dataframe\">\n",
       "  <thead>\n",
       "    <tr style=\"text-align: right;\">\n",
       "      <th></th>\n",
       "      <th>circle_id</th>\n",
       "      <th>loc_og_t2o_mou</th>\n",
       "      <th>std_og_t2o_mou</th>\n",
       "      <th>loc_ic_t2o_mou</th>\n",
       "      <th>arpu_6</th>\n",
       "      <th>arpu_7</th>\n",
       "      <th>arpu_8</th>\n",
       "      <th>onnet_mou_6</th>\n",
       "      <th>onnet_mou_7</th>\n",
       "      <th>onnet_mou_8</th>\n",
       "      <th>...</th>\n",
       "      <th>sachet_3g_8</th>\n",
       "      <th>fb_user_6</th>\n",
       "      <th>fb_user_7</th>\n",
       "      <th>fb_user_8</th>\n",
       "      <th>aon</th>\n",
       "      <th>aug_vbc_3g</th>\n",
       "      <th>jul_vbc_3g</th>\n",
       "      <th>jun_vbc_3g</th>\n",
       "      <th>sep_vbc_3g</th>\n",
       "      <th>churn</th>\n",
       "    </tr>\n",
       "  </thead>\n",
       "  <tbody>\n",
       "    <tr>\n",
       "      <th>count</th>\n",
       "      <td>29979.0</td>\n",
       "      <td>29865.0</td>\n",
       "      <td>29865.0</td>\n",
       "      <td>29865.0</td>\n",
       "      <td>29979.000000</td>\n",
       "      <td>29979.000000</td>\n",
       "      <td>29979.000000</td>\n",
       "      <td>29663.000000</td>\n",
       "      <td>29676.000000</td>\n",
       "      <td>29041.000000</td>\n",
       "      <td>...</td>\n",
       "      <td>29979.000000</td>\n",
       "      <td>29979.000000</td>\n",
       "      <td>29979.000000</td>\n",
       "      <td>29979.000000</td>\n",
       "      <td>29979.000000</td>\n",
       "      <td>29979.000000</td>\n",
       "      <td>29979.000000</td>\n",
       "      <td>29979.000000</td>\n",
       "      <td>29979.000000</td>\n",
       "      <td>29979.000000</td>\n",
       "    </tr>\n",
       "    <tr>\n",
       "      <th>mean</th>\n",
       "      <td>109.0</td>\n",
       "      <td>0.0</td>\n",
       "      <td>0.0</td>\n",
       "      <td>0.0</td>\n",
       "      <td>587.587624</td>\n",
       "      <td>589.424681</td>\n",
       "      <td>535.067748</td>\n",
       "      <td>299.392147</td>\n",
       "      <td>307.701888</td>\n",
       "      <td>276.459159</td>\n",
       "      <td>...</td>\n",
       "      <td>0.140498</td>\n",
       "      <td>0.340939</td>\n",
       "      <td>0.345842</td>\n",
       "      <td>0.327930</td>\n",
       "      <td>1264.158911</td>\n",
       "      <td>129.482436</td>\n",
       "      <td>135.225368</td>\n",
       "      <td>121.450911</td>\n",
       "      <td>6.554528</td>\n",
       "      <td>0.096401</td>\n",
       "    </tr>\n",
       "    <tr>\n",
       "      <th>std</th>\n",
       "      <td>0.0</td>\n",
       "      <td>0.0</td>\n",
       "      <td>0.0</td>\n",
       "      <td>0.0</td>\n",
       "      <td>442.848876</td>\n",
       "      <td>463.049067</td>\n",
       "      <td>492.447887</td>\n",
       "      <td>462.369385</td>\n",
       "      <td>483.432401</td>\n",
       "      <td>471.700220</td>\n",
       "      <td>...</td>\n",
       "      <td>0.975212</td>\n",
       "      <td>0.474033</td>\n",
       "      <td>0.475650</td>\n",
       "      <td>0.469467</td>\n",
       "      <td>975.181038</td>\n",
       "      <td>390.625027</td>\n",
       "      <td>408.218570</td>\n",
       "      <td>389.910814</td>\n",
       "      <td>48.630605</td>\n",
       "      <td>0.295145</td>\n",
       "    </tr>\n",
       "    <tr>\n",
       "      <th>min</th>\n",
       "      <td>109.0</td>\n",
       "      <td>0.0</td>\n",
       "      <td>0.0</td>\n",
       "      <td>0.0</td>\n",
       "      <td>-2258.709000</td>\n",
       "      <td>-2014.045000</td>\n",
       "      <td>-945.808000</td>\n",
       "      <td>0.000000</td>\n",
       "      <td>0.000000</td>\n",
       "      <td>0.000000</td>\n",
       "      <td>...</td>\n",
       "      <td>0.000000</td>\n",
       "      <td>0.000000</td>\n",
       "      <td>0.000000</td>\n",
       "      <td>0.000000</td>\n",
       "      <td>180.000000</td>\n",
       "      <td>0.000000</td>\n",
       "      <td>0.000000</td>\n",
       "      <td>0.000000</td>\n",
       "      <td>0.000000</td>\n",
       "      <td>0.000000</td>\n",
       "    </tr>\n",
       "    <tr>\n",
       "      <th>25%</th>\n",
       "      <td>109.0</td>\n",
       "      <td>0.0</td>\n",
       "      <td>0.0</td>\n",
       "      <td>0.0</td>\n",
       "      <td>364.352500</td>\n",
       "      <td>365.235000</td>\n",
       "      <td>289.782000</td>\n",
       "      <td>43.030000</td>\n",
       "      <td>42.775000</td>\n",
       "      <td>32.240000</td>\n",
       "      <td>...</td>\n",
       "      <td>0.000000</td>\n",
       "      <td>0.000000</td>\n",
       "      <td>0.000000</td>\n",
       "      <td>0.000000</td>\n",
       "      <td>480.000000</td>\n",
       "      <td>0.000000</td>\n",
       "      <td>0.000000</td>\n",
       "      <td>0.000000</td>\n",
       "      <td>0.000000</td>\n",
       "      <td>0.000000</td>\n",
       "    </tr>\n",
       "    <tr>\n",
       "      <th>50%</th>\n",
       "      <td>109.0</td>\n",
       "      <td>0.0</td>\n",
       "      <td>0.0</td>\n",
       "      <td>0.0</td>\n",
       "      <td>495.951000</td>\n",
       "      <td>493.781000</td>\n",
       "      <td>452.232000</td>\n",
       "      <td>128.480000</td>\n",
       "      <td>128.120000</td>\n",
       "      <td>106.390000</td>\n",
       "      <td>...</td>\n",
       "      <td>0.000000</td>\n",
       "      <td>0.000000</td>\n",
       "      <td>0.000000</td>\n",
       "      <td>0.000000</td>\n",
       "      <td>914.000000</td>\n",
       "      <td>0.000000</td>\n",
       "      <td>0.000000</td>\n",
       "      <td>0.000000</td>\n",
       "      <td>0.000000</td>\n",
       "      <td>0.000000</td>\n",
       "    </tr>\n",
       "    <tr>\n",
       "      <th>75%</th>\n",
       "      <td>109.0</td>\n",
       "      <td>0.0</td>\n",
       "      <td>0.0</td>\n",
       "      <td>0.0</td>\n",
       "      <td>704.184500</td>\n",
       "      <td>700.986000</td>\n",
       "      <td>671.349500</td>\n",
       "      <td>357.655000</td>\n",
       "      <td>365.127500</td>\n",
       "      <td>310.360000</td>\n",
       "      <td>...</td>\n",
       "      <td>0.000000</td>\n",
       "      <td>1.000000</td>\n",
       "      <td>1.000000</td>\n",
       "      <td>1.000000</td>\n",
       "      <td>1923.500000</td>\n",
       "      <td>1.600000</td>\n",
       "      <td>2.025000</td>\n",
       "      <td>0.000000</td>\n",
       "      <td>0.000000</td>\n",
       "      <td>0.000000</td>\n",
       "    </tr>\n",
       "    <tr>\n",
       "      <th>max</th>\n",
       "      <td>109.0</td>\n",
       "      <td>0.0</td>\n",
       "      <td>0.0</td>\n",
       "      <td>0.0</td>\n",
       "      <td>27731.088000</td>\n",
       "      <td>35145.834000</td>\n",
       "      <td>33543.624000</td>\n",
       "      <td>7376.710000</td>\n",
       "      <td>8157.780000</td>\n",
       "      <td>10752.560000</td>\n",
       "      <td>...</td>\n",
       "      <td>41.000000</td>\n",
       "      <td>1.000000</td>\n",
       "      <td>1.000000</td>\n",
       "      <td>1.000000</td>\n",
       "      <td>4321.000000</td>\n",
       "      <td>12916.220000</td>\n",
       "      <td>9165.600000</td>\n",
       "      <td>11166.210000</td>\n",
       "      <td>2618.570000</td>\n",
       "      <td>1.000000</td>\n",
       "    </tr>\n",
       "  </tbody>\n",
       "</table>\n",
       "<p>8 rows × 163 columns</p>\n",
       "</div>"
      ],
      "text/plain": [
       "       circle_id  loc_og_t2o_mou  std_og_t2o_mou  loc_ic_t2o_mou  \\\n",
       "count    29979.0         29865.0         29865.0         29865.0   \n",
       "mean       109.0             0.0             0.0             0.0   \n",
       "std          0.0             0.0             0.0             0.0   \n",
       "min        109.0             0.0             0.0             0.0   \n",
       "25%        109.0             0.0             0.0             0.0   \n",
       "50%        109.0             0.0             0.0             0.0   \n",
       "75%        109.0             0.0             0.0             0.0   \n",
       "max        109.0             0.0             0.0             0.0   \n",
       "\n",
       "             arpu_6        arpu_7        arpu_8   onnet_mou_6   onnet_mou_7  \\\n",
       "count  29979.000000  29979.000000  29979.000000  29663.000000  29676.000000   \n",
       "mean     587.587624    589.424681    535.067748    299.392147    307.701888   \n",
       "std      442.848876    463.049067    492.447887    462.369385    483.432401   \n",
       "min    -2258.709000  -2014.045000   -945.808000      0.000000      0.000000   \n",
       "25%      364.352500    365.235000    289.782000     43.030000     42.775000   \n",
       "50%      495.951000    493.781000    452.232000    128.480000    128.120000   \n",
       "75%      704.184500    700.986000    671.349500    357.655000    365.127500   \n",
       "max    27731.088000  35145.834000  33543.624000   7376.710000   8157.780000   \n",
       "\n",
       "        onnet_mou_8      ...        sachet_3g_8     fb_user_6     fb_user_7  \\\n",
       "count  29041.000000      ...       29979.000000  29979.000000  29979.000000   \n",
       "mean     276.459159      ...           0.140498      0.340939      0.345842   \n",
       "std      471.700220      ...           0.975212      0.474033      0.475650   \n",
       "min        0.000000      ...           0.000000      0.000000      0.000000   \n",
       "25%       32.240000      ...           0.000000      0.000000      0.000000   \n",
       "50%      106.390000      ...           0.000000      0.000000      0.000000   \n",
       "75%      310.360000      ...           0.000000      1.000000      1.000000   \n",
       "max    10752.560000      ...          41.000000      1.000000      1.000000   \n",
       "\n",
       "          fb_user_8           aon    aug_vbc_3g    jul_vbc_3g    jun_vbc_3g  \\\n",
       "count  29979.000000  29979.000000  29979.000000  29979.000000  29979.000000   \n",
       "mean       0.327930   1264.158911    129.482436    135.225368    121.450911   \n",
       "std        0.469467    975.181038    390.625027    408.218570    389.910814   \n",
       "min        0.000000    180.000000      0.000000      0.000000      0.000000   \n",
       "25%        0.000000    480.000000      0.000000      0.000000      0.000000   \n",
       "50%        0.000000    914.000000      0.000000      0.000000      0.000000   \n",
       "75%        1.000000   1923.500000      1.600000      2.025000      0.000000   \n",
       "max        1.000000   4321.000000  12916.220000   9165.600000  11166.210000   \n",
       "\n",
       "         sep_vbc_3g         churn  \n",
       "count  29979.000000  29979.000000  \n",
       "mean       6.554528      0.096401  \n",
       "std       48.630605      0.295145  \n",
       "min        0.000000      0.000000  \n",
       "25%        0.000000      0.000000  \n",
       "50%        0.000000      0.000000  \n",
       "75%        0.000000      0.000000  \n",
       "max     2618.570000      1.000000  \n",
       "\n",
       "[8 rows x 163 columns]"
      ]
     },
     "execution_count": 28,
     "metadata": {},
     "output_type": "execute_result"
    }
   ],
   "source": [
    "df.describe()"
   ]
  },
  {
   "cell_type": "code",
   "execution_count": null,
   "metadata": {},
   "outputs": [],
   "source": []
  }
 ],
 "metadata": {
  "kernelspec": {
   "display_name": "Python 3",
   "language": "python",
   "name": "python3"
  },
  "language_info": {
   "codemirror_mode": {
    "name": "ipython",
    "version": 3
   },
   "file_extension": ".py",
   "mimetype": "text/x-python",
   "name": "python",
   "nbconvert_exporter": "python",
   "pygments_lexer": "ipython3",
   "version": "3.7.0"
  }
 },
 "nbformat": 4,
 "nbformat_minor": 2
}
