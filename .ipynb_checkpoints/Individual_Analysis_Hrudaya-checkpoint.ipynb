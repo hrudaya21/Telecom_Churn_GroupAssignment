{
 "cells": [
  {
   "cell_type": "markdown",
   "metadata": {},
   "source": [
    "# Telecom Churn Group Project"
   ]
  },
  {
   "cell_type": "markdown",
   "metadata": {},
   "source": [
    "This notebook is split into following section\n",
    "\n",
    "<b>* Common Function</b>\n",
    "    * This section we have all the common functions which are used in the entire notebook\n",
    "<b> * Basic Data Analysis and Null Value imputation </b>\n",
    "    * Drop Columns with more than 50% NULL Values\n",
    "    * Handle columns with less number of NULL Values\n",
    "    * Drop columns having not informative information\n",
    "    * Create Dummy Variables for the categorical variables.\n",
    "    * Filter and get high valued customer information\n",
    "    * Derived Columns based on basic column analysis\n",
    "    * Create a new columns which will tell about the Churn/No-Churn customer and Drop 9th month related columns\n",
    "<b> * EDA </b>\n",
    "    * EDA for Month 6 and 7 Together\n",
    "    * EDA for Month 8\n",
    "    * Derived Columns by combining 6th, 7th and 8th columns \n",
    "    * How the features are varied from Good Period to Decision period\n",
    "    * What is the average variation from 6th+7th Month to 8th Month\n",
    "    * EDA for the derived columns\n",
    "<b> * Data Modeling </b>\n",
    "    * Data Normalization \n",
    "    * Basic Logistic Regression Fit to Check the accuracy\n",
    "    * As churn count is less, basic logist can be done with GridSearch and K-Fold\n",
    "    * Using PCA dimentionality reduction can be done\n",
    "    * By taking the PCA data logistic regression can be done again with GridSearch and K-Fold to check for prediction.\n",
    "    * Using Ridge Regression, It can be found the important features impacting the churn.\n",
    "    * Using Tree Model, Also Important Features can be derived.\n",
    "    * If during EDA, any variable relation found with multinomial relation, then SVM Kernel can be used for prediction.\n",
    "\n",
    "<b> * Final Model Selection </b>\n",
    "    * Final Model for Prediction\n",
    "    * Final Model for important Feature selection \n",
    "<b> * Summary </b>\n",
    "    * Project Analysis and Summary"
   ]
  },
  {
   "cell_type": "code",
   "execution_count": null,
   "metadata": {},
   "outputs": [],
   "source": [
    "import pandas as pd\n",
    "import numpy as np\n",
    "import seaborn as sns\n",
    "import matplotlib.pyplot as plt\n",
    "\n",
    "df = pd.read_csv('telecom_churn_data.csv')"
   ]
  },
  {
   "cell_type": "markdown",
   "metadata": {},
   "source": [
    "# Common Function"
   ]
  },
  {
   "cell_type": "code",
   "execution_count": null,
   "metadata": {},
   "outputs": [],
   "source": [
    "# Function to Return Montwise ColumnsList\n",
    "def returnColumnsByMonth(df):\n",
    "    column_Month_6 = []\n",
    "    column_Month_7 = []\n",
    "    column_Month_8 = []\n",
    "    column_Month_9 = []\n",
    "    column_Common = []\n",
    "    for eachColumns in df.columns:\n",
    "        if((eachColumns.find(\"_6\") >=0) | (eachColumns.find(\"jun_\") >=0)):\n",
    "            column_Month_6.append(eachColumns)\n",
    "        elif((eachColumns.find(\"_7\") >=0) | (eachColumns.find(\"jul_\") >=0)):\n",
    "            column_Month_7.append(eachColumns)\n",
    "        elif((eachColumns.find(\"_8\") >= 0) | (eachColumns.find(\"aug_\") >=0)):\n",
    "            column_Month_8.append(eachColumns)\n",
    "        elif((eachColumns.find(\"_9\") >=0) | (eachColumns.find(\"sep_\") >=0)):\n",
    "            column_Month_9.append(eachColumns)\n",
    "        else:\n",
    "            column_Common.append(eachColumns)\n",
    "    return column_Month_6, column_Month_7, column_Month_8, column_Month_9, column_Common\n",
    "\n",
    "# Function to Get Columns Based on Null %\n",
    "def getColumnsBasedOnNullPercent(df, nullPercentLimit, limitType = 'Upper'):\n",
    "    col2NullPercent_df = pd.DataFrame(round((df.isnull().sum()/len(df.index))* 100, 2), columns=['NullPercent'])\n",
    "    col2NullPercent_df = pd.DataFrame(round((df.isnull().sum()/len(df.index))* 100, 2), columns=['NullPercent'])\n",
    "    if(limitType == 'Upper'):\n",
    "        columnsList = np.array(col2NullPercent_df.apply(lambda x: x['NullPercent'] > nullPercentLimit , axis=1))\n",
    "    if(limitType == 'Lower'):\n",
    "        columnsList = np.array(col2NullPercent_df.apply(lambda x: ((x['NullPercent'] < nullPercentLimit) & (x['NullPercent'] > 0)) , axis=1))\n",
    "    return np.array(df.loc[:, columnsList].columns)\n",
    "    "
   ]
  },
  {
   "cell_type": "markdown",
   "metadata": {},
   "source": [
    "# Basic Data Analysis and Null Value Imputation"
   ]
  },
  {
   "cell_type": "code",
   "execution_count": null,
   "metadata": {},
   "outputs": [],
   "source": [
    "df.head()"
   ]
  },
  {
   "cell_type": "code",
   "execution_count": null,
   "metadata": {},
   "outputs": [],
   "source": [
    "df.columns"
   ]
  },
  {
   "cell_type": "markdown",
   "metadata": {},
   "source": [
    "####  * Get Columns Monthwise & Basic Understanding of Columns"
   ]
  },
  {
   "cell_type": "code",
   "execution_count": null,
   "metadata": {},
   "outputs": [],
   "source": [
    "column_Month_6, column_Month_7, column_Month_8, column_Month_9, column_Common = returnColumnsByMonth(df)\n",
    "\n",
    "print(\"Month 6 Columns Count ==> {}\".format(len(column_Month_6)))\n",
    "print(\"Month 7 Columns Count ==> {}\".format(len(column_Month_7)))\n",
    "print(\"Month 8 Columns Count ==> {}\".format(len(column_Month_8)))\n",
    "print(\"Month 9 Columns Count ==> {}\".format(len(column_Month_9)))\n",
    "print(\"Common Columns Count ==> {}\".format(len(column_Common)))"
   ]
  },
  {
   "cell_type": "code",
   "execution_count": null,
   "metadata": {},
   "outputs": [],
   "source": [
    "# All Months are having same type of columns So lets see the columns in general\n",
    "print (\"\\nMonth based Columns:\\n \\t\\t==> {}\".format(np.array(column_Month_6)))\n",
    "print (\"\\nCommon Columns:\\n \\t\\t==> {}\".format(np.array(column_Common)))"
   ]
  },
  {
   "cell_type": "markdown",
   "metadata": {},
   "source": [
    "#### * Derive Columns Total_Recharge_Amount from 6th and 7th Month total_rech_amt"
   ]
  },
  {
   "cell_type": "code",
   "execution_count": null,
   "metadata": {},
   "outputs": [],
   "source": [
    "df['Total_Recharge_Amount'] = df['total_rech_amt_6'] + df['total_rech_amt_7']\n",
    "\n",
    "# Get 70% of \"Total Recharge Amount\" to identify the recharge Amount Range for High value customer\n",
    "print(df['Total_Recharge_Amount'].describe(percentiles = [0.7]))\n",
    "print(\"\\n70% of Total Recharge Amount of first 2 months are {}\".format(df['Total_Recharge_Amount'].describe(percentiles = [0.7])[5]))"
   ]
  },
  {
   "cell_type": "markdown",
   "metadata": {},
   "source": [
    "#### * Filter High Value Customer from main data frame"
   ]
  },
  {
   "cell_type": "code",
   "execution_count": null,
   "metadata": {},
   "outputs": [],
   "source": [
    "df = df[df['Total_Recharge_Amount'] > 737].reset_index(drop=True)\n",
    "print(\"\\nTotal High Value Customer Count ==> {}\".format(df.shape[0]))\n",
    "df.drop(columns=['Total_Recharge_Amount'], inplace=True)"
   ]
  },
  {
   "cell_type": "markdown",
   "metadata": {},
   "source": [
    "#### * Null Value Checking and Drop High Null Value Columns"
   ]
  },
  {
   "cell_type": "code",
   "execution_count": null,
   "metadata": {},
   "outputs": [],
   "source": [
    "#Get Null Percentage in dataFrame and Filter\n",
    "nullPercentageLimit = 50\n",
    "columns_More_Than_50_PercentNull = getColumnsBasedOnNullPercent(df,nullPercentageLimit)\n",
    "#Drop Columns with More than 50% NUll\n",
    "df = df.loc[:, ~df.columns.isin(columns_More_Than_50_PercentNull)]\n",
    "\n",
    "print(\"\\nColumn List Dropped with More than 50% of Null Value:==>\\n {}\\n\".format(columns_More_Than_50_PercentNull))"
   ]
  },
  {
   "cell_type": "markdown",
   "metadata": {},
   "source": [
    "#### * Check Categorical Variables and Single Record Variables"
   ]
  },
  {
   "cell_type": "code",
   "execution_count": null,
   "metadata": {},
   "outputs": [],
   "source": [
    "singleCategoryColumns = df.loc[:, np.array(df.apply(lambda x: x.nunique() == 1))].columns\n",
    "for eachSingleCatgory in singleCategoryColumns:\n",
    "    print(\"{}: {}\".format(eachSingleCatgory, df[eachSingleCatgory].unique()))\n",
    "print(\"\\n<=== Drop Single Category Columns, Other than last_date_of_month_6/7/8/9, as it will be used for Derive Columns ===>\\n\")\n",
    "singleCategoryColumns = [x for x in singleCategoryColumns if x not in list(['last_date_of_month_6', 'last_date_of_month_7', 'last_date_of_month_8', 'last_date_of_month_9'])]\n",
    "singleCategoryColumns = np.array(singleCategoryColumns)\n",
    "df = df.loc[:, ~df.columns.isin(singleCategoryColumns)]"
   ]
  },
  {
   "cell_type": "markdown",
   "metadata": {},
   "source": [
    "#### * Analyze Null Value for Less than 50%"
   ]
  },
  {
   "cell_type": "code",
   "execution_count": null,
   "metadata": {},
   "outputs": [],
   "source": [
    "columns_Less_Than_50_PercentNull = getColumnsBasedOnNullPercent(df,nullPercentageLimit, limitType='Lower')\n",
    "df_temp = df.loc[:, columns_Less_Than_50_PercentNull]\n",
    "round(df_temp.isnull().sum()/len(df_temp.index) * 100,2)"
   ]
  },
  {
   "cell_type": "markdown",
   "metadata": {},
   "source": [
    "#### * As the Null % is very less, lets see if Null Value Can be imputed with some value"
   ]
  },
  {
   "cell_type": "code",
   "execution_count": null,
   "metadata": {},
   "outputs": [],
   "source": [
    "column_Month_6, column_Month_7, column_Month_8, column_Month_9, column_Common = returnColumnsByMonth(df_temp)\n",
    "\n",
    "print(\"Month 6 Columns Count ==> {}\".format(len(column_Month_6)))\n",
    "print(\"Month 7 Columns Count ==> {}\".format(len(column_Month_7)))\n",
    "print(\"Month 8 Columns Count ==> {}\".format(len(column_Month_8)))\n",
    "print(\"Month 9 Columns Count ==> {}\".format(len(column_Month_9)))\n",
    "print(\"Common Columns Count ==> {}\".format(len(column_Common)))\n",
    "print(\"==> All Months are having same columns with less% of Null Value\")\n",
    "print(np.array(column_Month_6))\n",
    "df_temp.loc[:, column_Month_6].head()"
   ]
  }
 ],
 "metadata": {
  "kernelspec": {
   "display_name": "Python 3",
   "language": "python",
   "name": "python3"
  },
  "language_info": {
   "codemirror_mode": {
    "name": "ipython",
    "version": 3
   },
   "file_extension": ".py",
   "mimetype": "text/x-python",
   "name": "python",
   "nbconvert_exporter": "python",
   "pygments_lexer": "ipython3",
   "version": "3.6.5"
  }
 },
 "nbformat": 4,
 "nbformat_minor": 2
}
